{
 "cells": [
  {
   "cell_type": "code",
   "execution_count": 1,
   "metadata": {
    "collapsed": true
   },
   "outputs": [],
   "source": [
    "import numpy as np"
   ]
  },
  {
   "cell_type": "code",
   "execution_count": 3,
   "metadata": {
    "collapsed": true
   },
   "outputs": [],
   "source": [
    "def separate_data(data):\n",
    "    np.random.shuffle(data)\n",
    "    n = data.shape[0]\n",
    "    m = data.shape[1]\n",
    "    \n",
    "    # separate into training and test sets\n",
    "    training_data = data[0:int(0.9*n),]\n",
    "    test_data = data[int(0.9*n):n,]\n",
    "    \n",
    "    # y is first column, convert units\n",
    "    y_training = training_data[:,0]*1000.0\n",
    "    y_test = test_data[:,0]*1000.0\n",
    "    \n",
    "    # x is everything but the first and last columns\n",
    "    X_training = training_data[:,1:m-1]\n",
    "    X_test = test_data[:,1:m-1]\n",
    "    \n",
    "    # normalize features\n",
    "    #X_training, X_test = normalize_features(X_training, X_test)\n",
    "    \n",
    "    # add bias feature\n",
    "    X_training = np.append(X_training, np.ones([int(0.9*n),1]), 1)\n",
    "    X_test = np.append(X_test, np.ones([n-int(0.9*n),1]), 1)\n",
    "\n",
    "    return y_training, y_test, X_training, X_test"
   ]
  },
  {
   "cell_type": "code",
   "execution_count": 2,
   "metadata": {
    "collapsed": true
   },
   "outputs": [],
   "source": [
    "def normalize_features(training_data, test_data):\n",
    "    m = np.mean(training_data, 0) \n",
    "    s = np.std(training_data, 0)\n",
    "    s[s == 0] = 1\n",
    "    training_normalized = (training_data - m) / s\n",
    "    test_normalized = (test_data - m) / s\n",
    "    return training_normalized, test_normalized"
   ]
  },
  {
   "cell_type": "code",
   "execution_count": null,
   "metadata": {
    "collapsed": true
   },
   "outputs": [],
   "source": [
    "def remove_bad_data(data):\n",
    "    ind = data['Event type'] == 'None' & data['Observation count'] == 24\n",
    "    data = data[ind]\n",
    "    return"
   ]
  },
  {
   "cell_type": "code",
   "execution_count": 4,
   "metadata": {
    "collapsed": false
   },
   "outputs": [
    {
     "data": {
      "text/plain": [
       "array([[ 1.,  2.,  3.],\n",
       "       [ 2.,  3.,  4.]])"
      ]
     },
     "execution_count": 4,
     "metadata": {},
     "output_type": "execute_result"
    }
   ],
   "source": [
    "a = np.array([[1.0, 2.0, 3.0],[2,3,4]])\n",
    "np.mean(a,0)\n",
    "a"
   ]
  },
  {
   "cell_type": "code",
   "execution_count": 1,
   "metadata": {
    "collapsed": false
   },
   "outputs": [],
   "source": [
    "def add_gc(AQS, GCsites, GC1, GC2, GC3, GC4, GC5, GC6, GC7, GC8, GC9): \n",
    "    # give GC unique ids\n",
    "    GCsites = create_unique_ids(GCsites, datatype='GC')\n",
    "    \n",
    "    # get unique ids for AQS data\n",
    "    AQS = create_unique_ids(AQS, datatype='AQS')\n",
    "    \n",
    "    # empty array for GC_MDA8\n",
    "    GC_MDA8 = np.zeros(AQS.shape[0])\n",
    "    mon = np.zeros(AQS.shape[0])\n",
    "    \n",
    "    # loop through all AQS entries and add corresponding GEOS-Chem entry\n",
    "    for n in xrange(0,AQS.shape[0]):\n",
    "        aqsID = AQS['uniqueID'].values[n]\n",
    "        date = AQS['Date Local'].values[n]\n",
    "        month = np.int(date[5:7]) \n",
    "        day = np.int(date[8:10])\n",
    "        i = day - 1\n",
    "        j = np.where(gcsites.uniqueID == int(aqsID))\n",
    "        if len(j[0]) > 0:\n",
    "            mon[n] = month\n",
    "            if (month == 1): \n",
    "                GC_MDA8[n] = GC1[i,j]\n",
    "            elif (month == 2):\n",
    "                GC_MDA8[n] = GC2[i,j]\n",
    "            elif (month == 3):\n",
    "                GC_MDA8[n] = GC3[i,j]\n",
    "            elif (month == 4):\n",
    "                GC_MDA8[n] = GC4[i,j]\n",
    "            elif (month == 5):\n",
    "                GC_MDA8[n] = GC5[i,j]\n",
    "            elif (month == 6): \n",
    "                GC_MDA8[n] = GC6[i,j]\n",
    "            elif (month == 7):\n",
    "                GC_MDA8[n] = GC7[i,j]\n",
    "            elif (month == 8):\n",
    "                GC_MDA8[n] = GC8[i,j]\n",
    "            else:\n",
    "                GC_MDA8[n] = GC9[i,j]\n",
    "        \n",
    "    AQS['GC'] = GC_MDA8\n",
    "    AQS['month'] = mon\n",
    "    return AQS"
   ]
  },
  {
   "cell_type": "code",
   "execution_count": 6,
   "metadata": {
    "collapsed": true
   },
   "outputs": [],
   "source": [
    "def create_unique_ids(data, datatype):\n",
    "    # loop through data and add new column of unique ids\n",
    "    if (datatype == 'GC'):\n",
    "        data['uniqueID'] = get_unique_id(data['SITE_ID'].values, \n",
    "                                         data['STATE'].values, data['LATITUDE'].values)\n",
    "    else:\n",
    "        data['uniqueID'] = get_unique_id(data['Site Num'].values, \n",
    "                                         data['State Name'].values, data['Latitude'].values)\n",
    "    return data"
   ]
  },
  {
   "cell_type": "code",
   "execution_count": 7,
   "metadata": {
    "collapsed": false
   },
   "outputs": [],
   "source": [
    "def get_unique_id(SiteID, StateName, Lat):\n",
    "    stateID = get_state_id(StateName)\n",
    "    latID = (Lat*1000).astype(int) % (Lat.astype(int)*1000)\n",
    "    uniqueID = (stateID*10000000.0) + (SiteID*1000.0) + latID\n",
    "    return uniqueID"
   ]
  },
  {
   "cell_type": "code",
   "execution_count": 8,
   "metadata": {
    "collapsed": false
   },
   "outputs": [],
   "source": [
    "# returns the state ID given the state name\n",
    "def get_state_id(State_Name):\n",
    "    state_list = ['Alabama', 'Alaska', 'Arizona', 'Arkansas', 'California', \n",
    "                  'Colorado', 'Connecticut', 'Delaware', 'Florida', 'Georgia', \n",
    "                  'Hawaii', 'Idaho', 'Illinois', 'Indiana', 'Iowa', 'Kansas', 'Kentucky',\n",
    "                  'Louisiana', 'Maine', 'Maryland', 'Massachusetts', 'Michigan', \n",
    "                  'Minnesota', 'Mississippi', 'Missouri', 'Montana', 'Nebraska', \n",
    "                  'Nevada', 'New Hampshire', 'New Jersey', 'New Mexico', 'New York', \n",
    "                  'North Carolina', 'North Dakota', 'Ohio', 'Oklahoma', 'Oregon', \n",
    "                  'Pennsylvania', 'Rhode Island', 'South Carolina', 'South Dakota', \n",
    "                  'Tennessee', 'Texas', 'Utah', 'Vermont', 'Virginia', 'Washington', \n",
    "                  'West Virginia', 'Wisconsin' ,'Wyoming', 'District Of Columbia', \n",
    "                  'Puerto Rico', 'Country Of Mexico']\n",
    "    state_ids = np.zeros(len(State_Name), dtype=np.int8)\n",
    "    for i in xrange(0, len(State_Name)):\n",
    "        state_ids[i] = state_list.index(State_Name[i])\n",
    "    return state_ids"
   ]
  },
  {
   "cell_type": "code",
   "execution_count": 95,
   "metadata": {
    "collapsed": false
   },
   "outputs": [
    {
     "name": "stdout",
     "output_type": "stream",
     "text": [
      "[ 0 28]\n",
      "[49 62]\n",
      "[10 10]\n",
      "[       0 28000000]\n",
      "[ 1000.  1000.]\n",
      "[49 62]\n"
     ]
    },
    {
     "data": {
      "text/plain": [
       "array([  1.04900000e+03,   2.80010620e+07])"
      ]
     },
     "execution_count": 95,
     "metadata": {},
     "output_type": "execute_result"
    }
   ],
   "source": [
    "get_unique_id(np.array([10,10],dtype=np.int8), ['Alabama', 'New Hampshire'], np.array([30.498001, 43.629611]))"
   ]
  },
  {
   "cell_type": "code",
   "execution_count": 56,
   "metadata": {
    "collapsed": false
   },
   "outputs": [
    {
     "data": {
      "text/plain": [
       "array([49, 62])"
      ]
     },
     "execution_count": 56,
     "metadata": {},
     "output_type": "execute_result"
    }
   ],
   "source": [
    "lats = np.array([30.498001, 43.629611])\n",
    "a = lats*100\n",
    "(lats*100).astype(int) % (lats.astype(int)*100)"
   ]
  },
  {
   "cell_type": "code",
   "execution_count": null,
   "metadata": {
    "collapsed": true
   },
   "outputs": [],
   "source": []
  }
 ],
 "metadata": {
  "kernelspec": {
   "display_name": "Python 2",
   "language": "python",
   "name": "python2"
  },
  "language_info": {
   "codemirror_mode": {
    "name": "ipython",
    "version": 2
   },
   "file_extension": ".py",
   "mimetype": "text/x-python",
   "name": "python",
   "nbconvert_exporter": "python",
   "pygments_lexer": "ipython2",
   "version": "2.7.10"
  }
 },
 "nbformat": 4,
 "nbformat_minor": 0
}
